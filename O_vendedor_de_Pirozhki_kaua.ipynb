{
  "nbformat": 4,
  "nbformat_minor": 0,
  "metadata": {
    "colab": {
      "provenance": [],
      "include_colab_link": true
    },
    "kernelspec": {
      "name": "python3",
      "display_name": "Python 3"
    },
    "language_info": {
      "name": "python"
    }
  },
  "cells": [
    {
      "cell_type": "markdown",
      "metadata": {
        "id": "view-in-github",
        "colab_type": "text"
      },
      "source": [
        "<a href=\"https://colab.research.google.com/github/Tateishik/Kaua-Fiap/blob/main/O_vendedor_de_Pirozhki_kaua.ipynb\" target=\"_parent\"><img src=\"https://colab.research.google.com/assets/colab-badge.svg\" alt=\"Open In Colab\"/></a>"
      ]
    },
    {
      "cell_type": "markdown",
      "source": [
        "# CASE: O vendedor de Pirozhki\n",
        "\n",
        "\n",
        "Vladimir Sidorov desistiu de seu trabalho convencional na KGB e decidiu empreender em 2010 no ramo alimentício. Com suas economias abriu um foodtruck no bairro do Ipiranga – SP especializado na venda de Pirozhki, onde seu grande diferencial era trabalhar com ingredientes importados dando uma qualidade extraordinária ao produto. Após o crescimento das vendas, a modalidade delivery foi implementada para auxiliar a empresa. Vladimir era extremamente popular no bairro, todos o conheciam, mas em 2019 se mudou para um ponto melhor e não tivemos mais notícia. Os últimos dados compartilhados das vendas de Vlad foram disponibilizados antes de sua partida.\n"
      ],
      "metadata": {
        "id": "HXZSC_Ob3Zrd"
      }
    },
    {
      "cell_type": "code",
      "source": [
        "import pandas as pd\n",
        "\n",
        "dados_vendas = {\n",
        "    'Ano': [2010, 2011, 2012, 2014, 2017, 2018, 2019],\n",
        "    'Vendas': [723, 814, 905, 1087, 1360, 1451, 1542]\n",
        "}\n",
        "\n",
        "df = pd.DataFrame(dados_vendas)\n",
        "\n",
        "df.head(10)"
      ],
      "metadata": {
        "id": "H6qSt8nv3de1",
        "colab": {
          "base_uri": "https://localhost:8080/",
          "height": 269
        },
        "outputId": "4c8c0152-377d-499e-c5be-0f45904cf6c7"
      },
      "execution_count": 28,
      "outputs": [
        {
          "output_type": "execute_result",
          "data": {
            "text/plain": [
              "    Ano  Vendas\n",
              "0  2010     723\n",
              "1  2011     814\n",
              "2  2012     905\n",
              "3  2014    1087\n",
              "4  2017    1360\n",
              "5  2018    1451\n",
              "6  2019    1542"
            ],
            "text/html": [
              "\n",
              "  <div id=\"df-1030b586-70c7-467e-bada-974078528a2e\" class=\"colab-df-container\">\n",
              "    <div>\n",
              "<style scoped>\n",
              "    .dataframe tbody tr th:only-of-type {\n",
              "        vertical-align: middle;\n",
              "    }\n",
              "\n",
              "    .dataframe tbody tr th {\n",
              "        vertical-align: top;\n",
              "    }\n",
              "\n",
              "    .dataframe thead th {\n",
              "        text-align: right;\n",
              "    }\n",
              "</style>\n",
              "<table border=\"1\" class=\"dataframe\">\n",
              "  <thead>\n",
              "    <tr style=\"text-align: right;\">\n",
              "      <th></th>\n",
              "      <th>Ano</th>\n",
              "      <th>Vendas</th>\n",
              "    </tr>\n",
              "  </thead>\n",
              "  <tbody>\n",
              "    <tr>\n",
              "      <th>0</th>\n",
              "      <td>2010</td>\n",
              "      <td>723</td>\n",
              "    </tr>\n",
              "    <tr>\n",
              "      <th>1</th>\n",
              "      <td>2011</td>\n",
              "      <td>814</td>\n",
              "    </tr>\n",
              "    <tr>\n",
              "      <th>2</th>\n",
              "      <td>2012</td>\n",
              "      <td>905</td>\n",
              "    </tr>\n",
              "    <tr>\n",
              "      <th>3</th>\n",
              "      <td>2014</td>\n",
              "      <td>1087</td>\n",
              "    </tr>\n",
              "    <tr>\n",
              "      <th>4</th>\n",
              "      <td>2017</td>\n",
              "      <td>1360</td>\n",
              "    </tr>\n",
              "    <tr>\n",
              "      <th>5</th>\n",
              "      <td>2018</td>\n",
              "      <td>1451</td>\n",
              "    </tr>\n",
              "    <tr>\n",
              "      <th>6</th>\n",
              "      <td>2019</td>\n",
              "      <td>1542</td>\n",
              "    </tr>\n",
              "  </tbody>\n",
              "</table>\n",
              "</div>\n",
              "    <div class=\"colab-df-buttons\">\n",
              "\n",
              "  <div class=\"colab-df-container\">\n",
              "    <button class=\"colab-df-convert\" onclick=\"convertToInteractive('df-1030b586-70c7-467e-bada-974078528a2e')\"\n",
              "            title=\"Convert this dataframe to an interactive table.\"\n",
              "            style=\"display:none;\">\n",
              "\n",
              "  <svg xmlns=\"http://www.w3.org/2000/svg\" height=\"24px\" viewBox=\"0 -960 960 960\">\n",
              "    <path d=\"M120-120v-720h720v720H120Zm60-500h600v-160H180v160Zm220 220h160v-160H400v160Zm0 220h160v-160H400v160ZM180-400h160v-160H180v160Zm440 0h160v-160H620v160ZM180-180h160v-160H180v160Zm440 0h160v-160H620v160Z\"/>\n",
              "  </svg>\n",
              "    </button>\n",
              "\n",
              "  <style>\n",
              "    .colab-df-container {\n",
              "      display:flex;\n",
              "      gap: 12px;\n",
              "    }\n",
              "\n",
              "    .colab-df-convert {\n",
              "      background-color: #E8F0FE;\n",
              "      border: none;\n",
              "      border-radius: 50%;\n",
              "      cursor: pointer;\n",
              "      display: none;\n",
              "      fill: #1967D2;\n",
              "      height: 32px;\n",
              "      padding: 0 0 0 0;\n",
              "      width: 32px;\n",
              "    }\n",
              "\n",
              "    .colab-df-convert:hover {\n",
              "      background-color: #E2EBFA;\n",
              "      box-shadow: 0px 1px 2px rgba(60, 64, 67, 0.3), 0px 1px 3px 1px rgba(60, 64, 67, 0.15);\n",
              "      fill: #174EA6;\n",
              "    }\n",
              "\n",
              "    .colab-df-buttons div {\n",
              "      margin-bottom: 4px;\n",
              "    }\n",
              "\n",
              "    [theme=dark] .colab-df-convert {\n",
              "      background-color: #3B4455;\n",
              "      fill: #D2E3FC;\n",
              "    }\n",
              "\n",
              "    [theme=dark] .colab-df-convert:hover {\n",
              "      background-color: #434B5C;\n",
              "      box-shadow: 0px 1px 3px 1px rgba(0, 0, 0, 0.15);\n",
              "      filter: drop-shadow(0px 1px 2px rgba(0, 0, 0, 0.3));\n",
              "      fill: #FFFFFF;\n",
              "    }\n",
              "  </style>\n",
              "\n",
              "    <script>\n",
              "      const buttonEl =\n",
              "        document.querySelector('#df-1030b586-70c7-467e-bada-974078528a2e button.colab-df-convert');\n",
              "      buttonEl.style.display =\n",
              "        google.colab.kernel.accessAllowed ? 'block' : 'none';\n",
              "\n",
              "      async function convertToInteractive(key) {\n",
              "        const element = document.querySelector('#df-1030b586-70c7-467e-bada-974078528a2e');\n",
              "        const dataTable =\n",
              "          await google.colab.kernel.invokeFunction('convertToInteractive',\n",
              "                                                    [key], {});\n",
              "        if (!dataTable) return;\n",
              "\n",
              "        const docLinkHtml = 'Like what you see? Visit the ' +\n",
              "          '<a target=\"_blank\" href=https://colab.research.google.com/notebooks/data_table.ipynb>data table notebook</a>'\n",
              "          + ' to learn more about interactive tables.';\n",
              "        element.innerHTML = '';\n",
              "        dataTable['output_type'] = 'display_data';\n",
              "        await google.colab.output.renderOutput(dataTable, element);\n",
              "        const docLink = document.createElement('div');\n",
              "        docLink.innerHTML = docLinkHtml;\n",
              "        element.appendChild(docLink);\n",
              "      }\n",
              "    </script>\n",
              "  </div>\n",
              "\n",
              "\n",
              "<div id=\"df-e6c22088-c634-46a3-87d5-d3430e9694f9\">\n",
              "  <button class=\"colab-df-quickchart\" onclick=\"quickchart('df-e6c22088-c634-46a3-87d5-d3430e9694f9')\"\n",
              "            title=\"Suggest charts.\"\n",
              "            style=\"display:none;\">\n",
              "\n",
              "<svg xmlns=\"http://www.w3.org/2000/svg\" height=\"24px\"viewBox=\"0 0 24 24\"\n",
              "     width=\"24px\">\n",
              "    <g>\n",
              "        <path d=\"M19 3H5c-1.1 0-2 .9-2 2v14c0 1.1.9 2 2 2h14c1.1 0 2-.9 2-2V5c0-1.1-.9-2-2-2zM9 17H7v-7h2v7zm4 0h-2V7h2v10zm4 0h-2v-4h2v4z\"/>\n",
              "    </g>\n",
              "</svg>\n",
              "  </button>\n",
              "\n",
              "<style>\n",
              "  .colab-df-quickchart {\n",
              "      --bg-color: #E8F0FE;\n",
              "      --fill-color: #1967D2;\n",
              "      --hover-bg-color: #E2EBFA;\n",
              "      --hover-fill-color: #174EA6;\n",
              "      --disabled-fill-color: #AAA;\n",
              "      --disabled-bg-color: #DDD;\n",
              "  }\n",
              "\n",
              "  [theme=dark] .colab-df-quickchart {\n",
              "      --bg-color: #3B4455;\n",
              "      --fill-color: #D2E3FC;\n",
              "      --hover-bg-color: #434B5C;\n",
              "      --hover-fill-color: #FFFFFF;\n",
              "      --disabled-bg-color: #3B4455;\n",
              "      --disabled-fill-color: #666;\n",
              "  }\n",
              "\n",
              "  .colab-df-quickchart {\n",
              "    background-color: var(--bg-color);\n",
              "    border: none;\n",
              "    border-radius: 50%;\n",
              "    cursor: pointer;\n",
              "    display: none;\n",
              "    fill: var(--fill-color);\n",
              "    height: 32px;\n",
              "    padding: 0;\n",
              "    width: 32px;\n",
              "  }\n",
              "\n",
              "  .colab-df-quickchart:hover {\n",
              "    background-color: var(--hover-bg-color);\n",
              "    box-shadow: 0 1px 2px rgba(60, 64, 67, 0.3), 0 1px 3px 1px rgba(60, 64, 67, 0.15);\n",
              "    fill: var(--button-hover-fill-color);\n",
              "  }\n",
              "\n",
              "  .colab-df-quickchart-complete:disabled,\n",
              "  .colab-df-quickchart-complete:disabled:hover {\n",
              "    background-color: var(--disabled-bg-color);\n",
              "    fill: var(--disabled-fill-color);\n",
              "    box-shadow: none;\n",
              "  }\n",
              "\n",
              "  .colab-df-spinner {\n",
              "    border: 2px solid var(--fill-color);\n",
              "    border-color: transparent;\n",
              "    border-bottom-color: var(--fill-color);\n",
              "    animation:\n",
              "      spin 1s steps(1) infinite;\n",
              "  }\n",
              "\n",
              "  @keyframes spin {\n",
              "    0% {\n",
              "      border-color: transparent;\n",
              "      border-bottom-color: var(--fill-color);\n",
              "      border-left-color: var(--fill-color);\n",
              "    }\n",
              "    20% {\n",
              "      border-color: transparent;\n",
              "      border-left-color: var(--fill-color);\n",
              "      border-top-color: var(--fill-color);\n",
              "    }\n",
              "    30% {\n",
              "      border-color: transparent;\n",
              "      border-left-color: var(--fill-color);\n",
              "      border-top-color: var(--fill-color);\n",
              "      border-right-color: var(--fill-color);\n",
              "    }\n",
              "    40% {\n",
              "      border-color: transparent;\n",
              "      border-right-color: var(--fill-color);\n",
              "      border-top-color: var(--fill-color);\n",
              "    }\n",
              "    60% {\n",
              "      border-color: transparent;\n",
              "      border-right-color: var(--fill-color);\n",
              "    }\n",
              "    80% {\n",
              "      border-color: transparent;\n",
              "      border-right-color: var(--fill-color);\n",
              "      border-bottom-color: var(--fill-color);\n",
              "    }\n",
              "    90% {\n",
              "      border-color: transparent;\n",
              "      border-bottom-color: var(--fill-color);\n",
              "    }\n",
              "  }\n",
              "</style>\n",
              "\n",
              "  <script>\n",
              "    async function quickchart(key) {\n",
              "      const quickchartButtonEl =\n",
              "        document.querySelector('#' + key + ' button');\n",
              "      quickchartButtonEl.disabled = true;  // To prevent multiple clicks.\n",
              "      quickchartButtonEl.classList.add('colab-df-spinner');\n",
              "      try {\n",
              "        const charts = await google.colab.kernel.invokeFunction(\n",
              "            'suggestCharts', [key], {});\n",
              "      } catch (error) {\n",
              "        console.error('Error during call to suggestCharts:', error);\n",
              "      }\n",
              "      quickchartButtonEl.classList.remove('colab-df-spinner');\n",
              "      quickchartButtonEl.classList.add('colab-df-quickchart-complete');\n",
              "    }\n",
              "    (() => {\n",
              "      let quickchartButtonEl =\n",
              "        document.querySelector('#df-e6c22088-c634-46a3-87d5-d3430e9694f9 button');\n",
              "      quickchartButtonEl.style.display =\n",
              "        google.colab.kernel.accessAllowed ? 'block' : 'none';\n",
              "    })();\n",
              "  </script>\n",
              "</div>\n",
              "    </div>\n",
              "  </div>\n"
            ]
          },
          "metadata": {},
          "execution_count": 28
        }
      ]
    },
    {
      "cell_type": "markdown",
      "source": [
        "\n",
        "\n",
        "1.   Dado o problema acima, qual o melhor algoritmo para descobrir os dados de 2015?\n",
        "2.   Qual coeficiente angular?\n",
        "3.   Considerando uma perspectiva estatística, qual o total de venda em 2020 (Apresentar valores)?\n",
        "4. Considerando uma perspectiva estatística, qual o total de venda em 2021 (Apresentar valores)?\n",
        "5. Desenvolva um código em python que calcule estatisticamente as vendas em qualquer ano desejado\n",
        "6. Considerando sua opinião, qual o total de venda em 2021?\n",
        "7. Considerando sua opinião, qual o total de venda em 2023?\n",
        "\n"
      ],
      "metadata": {
        "id": "jmbpy-k73f90"
      }
    },
    {
      "cell_type": "markdown",
      "source": [
        "*   Nome:  Kauã Tateishi dos Santos\n",
        "*   RM: 551632\n",
        "*   Nome:  \n",
        "*   RM:\n",
        "\n",
        "\n",
        "Professor, como estou com pressa(porque tenhos outras atividade para entregar hoje), resolvi fazer o checkpoint sozinho mesmo."
      ],
      "metadata": {
        "id": "Wi9_DVhq34pT"
      }
    },
    {
      "cell_type": "code",
      "source": [
        "#1-Considerando que a cada ano Vladimir aumenta suas vendas em 91. Em 2015 ele teria:\n",
        "\n",
        "#2014 = 1087\n",
        "#2015 = 1087 + 91\n",
        "#2015 = 1.178\n",
        "\n",
        "#fazendo atraves de equação:\n",
        "\n",
        "'''\n",
        "vamos considerar que:\n",
        "1 = 2010\n",
        "2 = 2011\n",
        "3 = 2012\n",
        "4 = 2013\n",
        "5 = 2014\n",
        "6 = 2015\n",
        "7 - 2016\n",
        "8 = 2017\n",
        "9 = 2018\n",
        "10 = 2019\n",
        "\n",
        "'''\n",
        "\n",
        "#Com base no coeficiente angular descoberto no exercício 2 podemos descobrir o coeficiente linear:\n",
        "y = 1451\n",
        "x = 9\n",
        "a = 91\n",
        "\n",
        "b = y - a*x\n",
        "b\n",
        "\n",
        "y = 814\n",
        "x = 2\n",
        "a = 91\n",
        "\n",
        "b = y - a*x\n",
        "b\n",
        "\n",
        "print(f'o coeficiente linear é {b}')\n",
        "\n",
        "#descobrindo as vendas de 2015\n",
        "\n",
        "y = 91*6 + 632\n",
        "y\n",
        "\n",
        "print(f'foram vendidos {y} Pirozhkis, em 2015')\n",
        "\n",
        "\n"
      ],
      "metadata": {
        "colab": {
          "base_uri": "https://localhost:8080/"
        },
        "id": "-hYdM-LU-vGK",
        "outputId": "a5c64ea1-c7d0-49ad-b733-4ce7b7bfafb5"
      },
      "execution_count": 21,
      "outputs": [
        {
          "output_type": "stream",
          "name": "stdout",
          "text": [
            "o coeficiente linear é 632\n",
            "foram vendidos 1178 Pirozhki, em 2015\n"
          ]
        }
      ]
    },
    {
      "cell_type": "code",
      "source": [
        "#2-\n",
        "\n",
        "#Para calcular o coeficiente angular pegamos dois pontos distintos de (x,y), calculamos a variação e dividimos. Segue o exemplo abaixo:\n",
        "\n",
        "y = 1451 - 905\n",
        "x = 2018 - 2012\n",
        "\n",
        "\n",
        "print(f\"O coeficiente angular(a) é igual a {y/x}\")\n"
      ],
      "metadata": {
        "colab": {
          "base_uri": "https://localhost:8080/"
        },
        "id": "1pyEUdaJK98p",
        "outputId": "23b7f2d5-fa8c-46fd-918d-101368c3c164"
      },
      "execution_count": 22,
      "outputs": [
        {
          "output_type": "stream",
          "name": "stdout",
          "text": [
            "O coeficiente angular(a) é igual a 91.0\n"
          ]
        }
      ]
    },
    {
      "cell_type": "markdown",
      "source": [
        "![imagem_2023-09-01_120400402.png](data:image/png;base64,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)"
      ],
      "metadata": {
        "id": "xKknh-RBRazL"
      }
    },
    {
      "cell_type": "code",
      "source": [
        "#3-Vou utilizar a regressão linear para prever os os valores de 2020. A regressão linear é bem presente na analise de dados. Portanto, acredito ser viável como perpectiva estatística:\n",
        "\n",
        "from sklearn.linear_model import LinearRegression\n",
        "import numpy as np\n",
        "\n",
        "X = df[['Ano']]\n",
        "y = df['Vendas']\n",
        "Z = np.array([[2020]])\n",
        "\n",
        "regressor = LinearRegression()\n",
        "\n",
        "regressor.fit(X, y)\n",
        "\n",
        "\n",
        "y_pred = regressor.predict(Z)\n",
        "\n",
        "print(y_pred)\n"
      ],
      "metadata": {
        "colab": {
          "base_uri": "https://localhost:8080/"
        },
        "id": "fqjSRpUi_UDR",
        "outputId": "8ee8065d-1c1c-41d7-f69a-7966dbb2bd13"
      },
      "execution_count": 35,
      "outputs": [
        {
          "output_type": "stream",
          "name": "stdout",
          "text": [
            "[1633.]\n"
          ]
        },
        {
          "output_type": "stream",
          "name": "stderr",
          "text": [
            "/usr/local/lib/python3.10/dist-packages/sklearn/base.py:439: UserWarning: X does not have valid feature names, but LinearRegression was fitted with feature names\n",
            "  warnings.warn(\n"
          ]
        }
      ]
    },
    {
      "cell_type": "code",
      "source": [
        "#4-Vou utilizar a regressão linear para prever os os valores de 2021. A regressão linear é bem presente na analise de dados. Portanto, acredito ser viável como perpectiva estatística:\n",
        "\n",
        "K = np.array([[2021]])\n",
        "\n",
        "y_pred = regressor.predict(K)\n",
        "\n",
        "print(y_pred)"
      ],
      "metadata": {
        "colab": {
          "base_uri": "https://localhost:8080/"
        },
        "id": "rZ87hCSOdqIi",
        "outputId": "ca065dbf-db69-4d78-e0d6-a1742e107d5b"
      },
      "execution_count": 42,
      "outputs": [
        {
          "output_type": "stream",
          "name": "stdout",
          "text": [
            "[90813.]\n"
          ]
        },
        {
          "output_type": "stream",
          "name": "stderr",
          "text": [
            "/usr/local/lib/python3.10/dist-packages/sklearn/base.py:439: UserWarning: X does not have valid feature names, but LinearRegression was fitted with feature names\n",
            "  warnings.warn(\n"
          ]
        }
      ]
    },
    {
      "cell_type": "code",
      "source": [
        "#5-\n",
        "\n",
        "def valor_ano(x) -> None:\n",
        "    x = x - 2009\n",
        "    y = 91*x + 632\n",
        "    return y\n",
        "\n",
        "\n",
        "print(valor_ano(int(input(\"digite o ano: \"))))\n"
      ],
      "metadata": {
        "colab": {
          "base_uri": "https://localhost:8080/"
        },
        "id": "MwHt_Lx8wZBT",
        "outputId": "99432924-8307-4492-d3dc-d12b7d54cd62"
      },
      "execution_count": 41,
      "outputs": [
        {
          "output_type": "stream",
          "name": "stdout",
          "text": [
            "digite o ano: 3000\n",
            "90813\n"
          ]
        }
      ]
    },
    {
      "cell_type": "code",
      "source": [
        "#6\n",
        "'''\n",
        "Como ele se mudou para um lugar mais popular, é provável que suas vendas tenham aumentado. Todavia, não se tem certeza, pois não possuímos os dados nem o histórico para fazer os cálculos.\n",
        "'''\n"
      ],
      "metadata": {
        "id": "Y_JQzdfFx8WA"
      },
      "execution_count": null,
      "outputs": []
    },
    {
      "cell_type": "code",
      "source": [
        "#7\n",
        "'''\n",
        "Como na questão anterior, não possuímos os dados do novo local; no entanto, talvez seja possível prever os dados de 2023 com base nos dados de 2020, 2021 e 2022.\n",
        "'''"
      ],
      "metadata": {
        "id": "tUfHEJ2Vx8gQ"
      },
      "execution_count": null,
      "outputs": []
    }
  ]
}